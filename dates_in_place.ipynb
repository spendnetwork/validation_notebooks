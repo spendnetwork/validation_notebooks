{
 "cells": [
  {
   "cell_type": "code",
   "execution_count": 28,
   "metadata": {
    "pycharm": {
     "name": "#%%\n"
    }
   },
   "outputs": [],
   "source": [
    "import pandas as pd\n",
    "import altair as alt\n",
    "pd.set_option(\"display.max_rows\", 50)\n"
   ]
  },
  {
   "cell_type": "markdown",
   "metadata": {
    "pycharm": {
     "name": "#%% md\n"
    }
   },
   "source": [
    "Read csv\n",
    "(TODO csv with mult sources)\n"
   ]
  },
  {
   "cell_type": "code",
   "execution_count": 29,
   "metadata": {
    "pycharm": {
     "name": "#%%\n"
    }
   },
   "outputs": [],
   "source": [
    "path = '/Users/erinclark/git/validation_notebooks/csvs/td_uk_recent_excl_ted_cf.csv'\n",
    "df = pd.read_csv(path)"
   ]
  },
  {
   "cell_type": "markdown",
   "metadata": {
    "pycharm": {
     "name": "#%% md\n"
    }
   },
   "source": [
    "Date completion "
   ]
  },
  {
   "cell_type": "code",
   "execution_count": 35,
   "metadata": {
    "pycharm": {
     "name": "#%%\n"
    }
   },
   "outputs": [
    {
     "data": {
      "text/html": [
       "<div>\n",
       "<style scoped>\n",
       "    .dataframe tbody tr th:only-of-type {\n",
       "        vertical-align: middle;\n",
       "    }\n",
       "\n",
       "    .dataframe tbody tr th {\n",
       "        vertical-align: top;\n",
       "    }\n",
       "\n",
       "    .dataframe thead th {\n",
       "        text-align: right;\n",
       "    }\n",
       "</style>\n",
       "<table border=\"1\" class=\"dataframe\">\n",
       "  <thead>\n",
       "    <tr style=\"text-align: right;\">\n",
       "      <th></th>\n",
       "      <th>Date Field</th>\n",
       "      <th>Percentage of Completion</th>\n",
       "    </tr>\n",
       "  </thead>\n",
       "  <tbody>\n",
       "    <tr>\n",
       "      <th>0</th>\n",
       "      <td>pubdate</td>\n",
       "      <td>100.000000</td>\n",
       "    </tr>\n",
       "    <tr>\n",
       "      <th>1</th>\n",
       "      <td>startdate</td>\n",
       "      <td>74.788673</td>\n",
       "    </tr>\n",
       "    <tr>\n",
       "      <th>2</th>\n",
       "      <td>enddate</td>\n",
       "      <td>96.005917</td>\n",
       "    </tr>\n",
       "  </tbody>\n",
       "</table>\n",
       "</div>"
      ],
      "text/plain": [
       "  Date Field  Percentage of Completion\n",
       "0    pubdate                100.000000\n",
       "1  startdate                 74.788673\n",
       "2    enddate                 96.005917"
      ]
     },
     "execution_count": 35,
     "metadata": {},
     "output_type": "execute_result"
    }
   ],
   "source": [
    "df = df[['pubdate', 'startdate', 'enddate']]\n",
    "\n",
    "counts = (df.count().divide(df.shape[0]).mul(100)).to_frame().reset_index()\n",
    "counts.columns = ['Date Field', 'Percentage of Completion']\n",
    "counts\n",
    "\n",
    "\n",
    "# df.groupby([\"source\"]).count()\n",
    "\n",
    "# groupdf = df.groupby([\"source\", \"release_tag\"]).size().divide(df.groupby([\"source\"]).size()).mul(100)\n",
    "# groupdf = groupdf.to_frame().reset_index().rename({0: 'percent'}, axis=1)\n",
    "# print(groupdf)\n"
   ]
  },
  {
   "cell_type": "markdown",
   "metadata": {
    "pycharm": {
     "name": "#%% md\n"
    }
   },
   "source": [
    "Output chart"
   ]
  },
  {
   "cell_type": "code",
   "execution_count": 26,
   "metadata": {
    "pycharm": {
     "name": "#%%\n"
    }
   },
   "outputs": [
    {
     "data": {
      "text/html": [
       "\n",
       "<div id=\"altair-viz-551247c6e39249389ed1d87acd5da981\"></div>\n",
       "<script type=\"text/javascript\">\n",
       "  (function(spec, embedOpt){\n",
       "    let outputDiv = document.currentScript.previousElementSibling;\n",
       "    if (outputDiv.id !== \"altair-viz-551247c6e39249389ed1d87acd5da981\") {\n",
       "      outputDiv = document.getElementById(\"altair-viz-551247c6e39249389ed1d87acd5da981\");\n",
       "    }\n",
       "    const paths = {\n",
       "      \"vega\": \"https://cdn.jsdelivr.net/npm//vega@5?noext\",\n",
       "      \"vega-lib\": \"https://cdn.jsdelivr.net/npm//vega-lib?noext\",\n",
       "      \"vega-lite\": \"https://cdn.jsdelivr.net/npm//vega-lite@4.8.1?noext\",\n",
       "      \"vega-embed\": \"https://cdn.jsdelivr.net/npm//vega-embed@6?noext\",\n",
       "    };\n",
       "\n",
       "    function loadScript(lib) {\n",
       "      return new Promise(function(resolve, reject) {\n",
       "        var s = document.createElement('script');\n",
       "        s.src = paths[lib];\n",
       "        s.async = true;\n",
       "        s.onload = () => resolve(paths[lib]);\n",
       "        s.onerror = () => reject(`Error loading script: ${paths[lib]}`);\n",
       "        document.getElementsByTagName(\"head\")[0].appendChild(s);\n",
       "      });\n",
       "    }\n",
       "\n",
       "    function showError(err) {\n",
       "      outputDiv.innerHTML = `<div class=\"error\" style=\"color:red;\">${err}</div>`;\n",
       "      throw err;\n",
       "    }\n",
       "\n",
       "    function displayChart(vegaEmbed) {\n",
       "      vegaEmbed(outputDiv, spec, embedOpt)\n",
       "        .catch(err => showError(`Javascript Error: ${err.message}<br>This usually means there's a typo in your chart specification. See the javascript console for the full traceback.`));\n",
       "    }\n",
       "\n",
       "    if(typeof define === \"function\" && define.amd) {\n",
       "      requirejs.config({paths});\n",
       "      require([\"vega-embed\"], displayChart, err => showError(`Error loading script: ${err.message}`));\n",
       "    } else if (typeof vegaEmbed === \"function\") {\n",
       "      displayChart(vegaEmbed);\n",
       "    } else {\n",
       "      loadScript(\"vega\")\n",
       "        .then(() => loadScript(\"vega-lite\"))\n",
       "        .then(() => loadScript(\"vega-embed\"))\n",
       "        .catch(showError)\n",
       "        .then(() => displayChart(vegaEmbed));\n",
       "    }\n",
       "  })({\"config\": {\"view\": {\"continuousWidth\": 400, \"continuousHeight\": 300, \"strokeWidth\": 0}, \"title\": {\"anchor\": \"start\", \"color\": \"#91D739\", \"font\": \"Helvetica\", \"fontSize\": 18, \"fontWeight\": 400}}, \"layer\": [{\"mark\": {\"type\": \"bar\", \"color\": \"#91D739\", \"size\": 10}, \"encoding\": {\"x\": {\"type\": \"nominal\", \"axis\": {\"grid\": false, \"labelAngle\": 0, \"labelFont\": \"Helvetica\", \"labelFontSize\": 12, \"tickCount\": 12, \"title\": \"https://openopps.com\", \"titleAlign\": \"left\", \"titleAnchor\": \"start\", \"titleFont\": \"Helvetica\", \"titleFontSize\": 11, \"titleFontWeight\": 300, \"titleX\": 0, \"titleY\": 30}, \"field\": \"Date Field\"}, \"y\": {\"type\": \"quantitative\", \"axis\": {\"format\": \".0s\", \"title\": \"\"}, \"field\": \"Percentage of Completion\"}}, \"height\": 300, \"title\": \"Completion of Dates\", \"width\": 200}], \"data\": {\"name\": \"data-9cd50c8873a7018140a7522af7b946ad\"}, \"$schema\": \"https://vega.github.io/schema/vega-lite/v4.8.1.json\", \"datasets\": {\"data-9cd50c8873a7018140a7522af7b946ad\": [{\"Date Field\": \"pubdate\", \"Percentage of Completion\": 100.0}, {\"Date Field\": \"startdate\", \"Percentage of Completion\": 74.78867286559594}, {\"Date Field\": \"enddate\", \"Percentage of Completion\": 96.00591715976331}]}}, {\"mode\": \"vega-lite\"});\n",
       "</script>"
      ],
      "text/plain": [
       "alt.LayerChart(...)"
      ]
     },
     "execution_count": 26,
     "metadata": {},
     "output_type": "execute_result"
    }
   ],
   "source": [
    "chart = alt.Chart(counts, width=200, height=300, title=\"Completion of Dates\").mark_bar(color='#91D739', size=10).encode(\n",
    "            alt.X('Date Field',\n",
    "            axis=alt.Axis(tickCount=12, title=\"https://openopps.com\", \n",
    "            grid=False, \n",
    "            labelFont='Helvetica', \n",
    "            labelFontSize=12, \n",
    "            labelAngle=0, \n",
    "            titleAlign='left',\n",
    "            titleAnchor='start',\n",
    "            titleFont='Helvetica',\n",
    "            titleFontSize= 11,\n",
    "            titleFontWeight= 300,\n",
    "            titleX= -0,\n",
    "            titleY= 30)\n",
    "                   ),\n",
    "    \n",
    "         alt.Y('Percentage of Completion:Q',\n",
    "               axis=alt.Axis(title=\"\",\n",
    "               format=\".0s\",)\n",
    "                       )        \n",
    "#          color=alt.Color('datetype:N', scale=alt.Scale(scheme='darkgreen')),\n",
    "#          column='source'\n",
    "\n",
    ")\n",
    " \n",
    "    \n",
    "full_chart = alt.layer(\n",
    "            chart\n",
    "            ).configure_view(\n",
    "              strokeWidth=0\n",
    "            ).configure_title(fontSize=18, anchor='start',\n",
    "                    color= \"#91D739\", font='Helvetica', fontWeight=400)\n",
    "\n",
    "full_chart\n"
   ]
  },
  {
   "cell_type": "code",
   "execution_count": null,
   "metadata": {
    "pycharm": {
     "name": "#%%\n"
    }
   },
   "outputs": [],
   "source": [
    "\n"
   ]
  },
  {
   "cell_type": "code",
   "execution_count": null,
   "metadata": {
    "pycharm": {
     "name": "#%%\n"
    }
   },
   "outputs": [],
   "source": []
  }
 ],
 "metadata": {
  "kernelspec": {
   "display_name": "Python 3",
   "language": "python",
   "name": "python3"
  },
  "language_info": {
   "codemirror_mode": {
    "name": "ipython",
    "version": 3
   },
   "file_extension": ".py",
   "mimetype": "text/x-python",
   "name": "python",
   "nbconvert_exporter": "python",
   "pygments_lexer": "ipython3",
   "version": "3.7.5"
  },
  "pycharm": {
   "stem_cell": {
    "cell_type": "raw",
    "metadata": {
     "collapsed": false
    },
    "source": []
   }
  }
 },
 "nbformat": 4,
 "nbformat_minor": 1
}
