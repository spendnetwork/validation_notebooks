{
  "nbformat": 4,
  "nbformat_minor": 0,
  "metadata": {
    "kernelspec": {
      "display_name": "Python 3",
      "language": "python",
      "name": "python3"
    },
    "language_info": {
      "codemirror_mode": {
        "name": "ipython",
        "version": 3
      },
      "file_extension": ".py",
      "mimetype": "text/x-python",
      "name": "python",
      "nbconvert_exporter": "python",
      "pygments_lexer": "ipython3",
      "version": "3.7.5"
    },
    "pycharm": {
      "stem_cell": {
        "cell_type": "raw",
        "metadata": {
          "collapsed": false
        },
        "source": []
      }
    },
    "colab": {
      "name": "dates_in_place.ipynb",
      "provenance": []
    }
  },
  "cells": [
    {
      "cell_type": "code",
      "metadata": {
        "pycharm": {
          "name": "#%%\n"
        },
        "id": "-T1BQsnNsHC9",
        "colab_type": "code",
        "colab": {}
      },
      "source": [
        "import pandas as pd\n",
        "import altair as alt"
      ],
      "execution_count": 0,
      "outputs": []
    },
    {
      "cell_type": "code",
      "metadata": {
        "pycharm": {
          "name": "#%%\n"
        },
        "id": "r0OZwzM3sHDC",
        "colab_type": "code",
        "colab": {}
      },
      "source": [
        "url = 'https://raw.githubusercontent.com/spendnetwork/validation_notebooks/master/csvs/td_uk_recent_excl_ted_cf.csv?token=ADX2I77FZUT5W6B4DKWGDVC6YG4S2'\n",
        "df = pd.read_csv(url)"
      ],
      "execution_count": 0,
      "outputs": []
    },
    {
      "cell_type": "markdown",
      "metadata": {
        "pycharm": {
          "name": "#%% md\n"
        },
        "id": "AO255D7jsHDF",
        "colab_type": "text"
      },
      "source": [
        "Date completion "
      ]
    },
    {
      "cell_type": "code",
      "metadata": {
        "pycharm": {
          "name": "#%%\n"
        },
        "id": "Zc-4UsJLsHDG",
        "colab_type": "code",
        "outputId": "aa35ead6-022e-43f2-ad33-e8ebaa5a010a",
        "colab": {
          "base_uri": "https://localhost:8080/",
          "height": 142
        }
      },
      "source": [
        "df = df[['pubdate', 'startdate', 'enddate']]\n",
        "df.columns = ['Publish Date', 'Tender Start', 'Tender End']\n",
        "counts = (df.count().divide(df.shape[0]).mul(100)).to_frame().reset_index()\n",
        "counts.columns = ['Date Field', 'Percentage of Completion']\n",
        "counts"
      ],
      "execution_count": 0,
      "outputs": [
        {
          "output_type": "execute_result",
          "data": {
            "text/html": [
              "<div>\n",
              "<style scoped>\n",
              "    .dataframe tbody tr th:only-of-type {\n",
              "        vertical-align: middle;\n",
              "    }\n",
              "\n",
              "    .dataframe tbody tr th {\n",
              "        vertical-align: top;\n",
              "    }\n",
              "\n",
              "    .dataframe thead th {\n",
              "        text-align: right;\n",
              "    }\n",
              "</style>\n",
              "<table border=\"1\" class=\"dataframe\">\n",
              "  <thead>\n",
              "    <tr style=\"text-align: right;\">\n",
              "      <th></th>\n",
              "      <th>Date Field</th>\n",
              "      <th>Percentage of Completion</th>\n",
              "    </tr>\n",
              "  </thead>\n",
              "  <tbody>\n",
              "    <tr>\n",
              "      <th>0</th>\n",
              "      <td>Publish Date</td>\n",
              "      <td>100.000000</td>\n",
              "    </tr>\n",
              "    <tr>\n",
              "      <th>1</th>\n",
              "      <td>Tender Start</td>\n",
              "      <td>74.788673</td>\n",
              "    </tr>\n",
              "    <tr>\n",
              "      <th>2</th>\n",
              "      <td>Tender End</td>\n",
              "      <td>96.005917</td>\n",
              "    </tr>\n",
              "  </tbody>\n",
              "</table>\n",
              "</div>"
            ],
            "text/plain": [
              "     Date Field  Percentage of Completion\n",
              "0  Publish Date                100.000000\n",
              "1  Tender Start                 74.788673\n",
              "2    Tender End                 96.005917"
            ]
          },
          "metadata": {
            "tags": []
          },
          "execution_count": 15
        }
      ]
    },
    {
      "cell_type": "markdown",
      "metadata": {
        "pycharm": {
          "name": "#%% md\n"
        },
        "id": "5qR1ZzsXsHDJ",
        "colab_type": "text"
      },
      "source": [
        "Output chart"
      ]
    },
    {
      "cell_type": "code",
      "metadata": {
        "pycharm": {
          "name": "#%%\n"
        },
        "id": "kFUPGyF-sHDJ",
        "colab_type": "code",
        "outputId": "96fba59e-87cb-4912-d772-c413e68279d1",
        "colab": {
          "base_uri": "https://localhost:8080/",
          "height": 469
        }
      },
      "source": [
        "chart = alt.Chart(counts, width=200, height=300, title=\"Percentage Completion of Dates\").mark_bar(color='#91D739', size=10).encode(\n",
        "            alt.X('Date Field',\n",
        "            axis=alt.Axis(tickCount=12, title=\"https://openopps.com\", \n",
        "            grid=False, \n",
        "            labelFont='Helvetica', \n",
        "            labelFontSize=12, \n",
        "            labelAngle=-90, \n",
        "            titleAlign='left',\n",
        "            titleAnchor='start',\n",
        "            titleFont='Helvetica',\n",
        "            titleFontSize= 11,\n",
        "            titleFontWeight= 300,\n",
        "            titleX= -0,\n",
        "            titleY= 100)\n",
        "                   ),\n",
        "    \n",
        "         alt.Y('Percentage of Completion:Q',\n",
        "               axis=alt.Axis(title=\"\",\n",
        "               format=\".0s\",),\n",
        "        # color='buyer'\n",
        "                       )        \n",
        ").configure_title(fontSize=18, anchor='start',\n",
        "                    color= \"#91D739\", font='Helvetica', fontWeight=400)\n",
        "\n",
        "\n",
        "chart\n"
      ],
      "execution_count": 0,
      "outputs": [
        {
          "output_type": "execute_result",
          "data": {
            "text/plain": [
              "alt.Chart(...)"
            ],
            "text/html": [
              "\n",
              "<div id=\"altair-viz-d86cf5f4d31c4eb5a7831624fc55537b\"></div>\n",
              "<script type=\"text/javascript\">\n",
              "  (function(spec, embedOpt){\n",
              "    let outputDiv = document.currentScript.previousElementSibling;\n",
              "    if (outputDiv.id !== \"altair-viz-d86cf5f4d31c4eb5a7831624fc55537b\") {\n",
              "      outputDiv = document.getElementById(\"altair-viz-d86cf5f4d31c4eb5a7831624fc55537b\");\n",
              "    }\n",
              "    const paths = {\n",
              "      \"vega\": \"https://cdn.jsdelivr.net/npm//vega@5?noext\",\n",
              "      \"vega-lib\": \"https://cdn.jsdelivr.net/npm//vega-lib?noext\",\n",
              "      \"vega-lite\": \"https://cdn.jsdelivr.net/npm//vega-lite@4.8.1?noext\",\n",
              "      \"vega-embed\": \"https://cdn.jsdelivr.net/npm//vega-embed@6?noext\",\n",
              "    };\n",
              "\n",
              "    function loadScript(lib) {\n",
              "      return new Promise(function(resolve, reject) {\n",
              "        var s = document.createElement('script');\n",
              "        s.src = paths[lib];\n",
              "        s.async = true;\n",
              "        s.onload = () => resolve(paths[lib]);\n",
              "        s.onerror = () => reject(`Error loading script: ${paths[lib]}`);\n",
              "        document.getElementsByTagName(\"head\")[0].appendChild(s);\n",
              "      });\n",
              "    }\n",
              "\n",
              "    function showError(err) {\n",
              "      outputDiv.innerHTML = `<div class=\"error\" style=\"color:red;\">${err}</div>`;\n",
              "      throw err;\n",
              "    }\n",
              "\n",
              "    function displayChart(vegaEmbed) {\n",
              "      vegaEmbed(outputDiv, spec, embedOpt)\n",
              "        .catch(err => showError(`Javascript Error: ${err.message}<br>This usually means there's a typo in your chart specification. See the javascript console for the full traceback.`));\n",
              "    }\n",
              "\n",
              "    if(typeof define === \"function\" && define.amd) {\n",
              "      requirejs.config({paths});\n",
              "      require([\"vega-embed\"], displayChart, err => showError(`Error loading script: ${err.message}`));\n",
              "    } else if (typeof vegaEmbed === \"function\") {\n",
              "      displayChart(vegaEmbed);\n",
              "    } else {\n",
              "      loadScript(\"vega\")\n",
              "        .then(() => loadScript(\"vega-lite\"))\n",
              "        .then(() => loadScript(\"vega-embed\"))\n",
              "        .catch(showError)\n",
              "        .then(() => displayChart(vegaEmbed));\n",
              "    }\n",
              "  })({\"config\": {\"view\": {\"continuousWidth\": 400, \"continuousHeight\": 300}, \"title\": {\"anchor\": \"start\", \"color\": \"#91D739\", \"font\": \"Helvetica\", \"fontSize\": 18, \"fontWeight\": 400}}, \"data\": {\"name\": \"data-6b8b4b1f8f5a5e13618c6baf270f952d\"}, \"mark\": {\"type\": \"bar\", \"color\": \"#91D739\", \"size\": 10}, \"encoding\": {\"x\": {\"type\": \"nominal\", \"axis\": {\"grid\": false, \"labelAngle\": -90, \"labelFont\": \"Helvetica\", \"labelFontSize\": 12, \"tickCount\": 12, \"title\": \"https://openopps.com\", \"titleAlign\": \"left\", \"titleAnchor\": \"start\", \"titleFont\": \"Helvetica\", \"titleFontSize\": 11, \"titleFontWeight\": 300, \"titleX\": 0, \"titleY\": 100}, \"field\": \"Date Field\"}, \"y\": {\"type\": \"quantitative\", \"axis\": {\"format\": \".0s\", \"title\": \"\"}, \"field\": \"Percentage of Completion\"}}, \"height\": 300, \"title\": \"Percentage Completion of Dates\", \"width\": 200, \"$schema\": \"https://vega.github.io/schema/vega-lite/v4.8.1.json\", \"datasets\": {\"data-6b8b4b1f8f5a5e13618c6baf270f952d\": [{\"Date Field\": \"Publish Date\", \"Percentage of Completion\": 100.0}, {\"Date Field\": \"Tender Start\", \"Percentage of Completion\": 74.78867286559594}, {\"Date Field\": \"Tender End\", \"Percentage of Completion\": 96.00591715976331}]}}, {\"mode\": \"vega-lite\"});\n",
              "</script>"
            ]
          },
          "metadata": {
            "tags": []
          },
          "execution_count": 22
        }
      ]
    },
    {
      "cell_type": "code",
      "metadata": {
        "id": "JdF_8gfFzADZ",
        "colab_type": "code",
        "colab": {}
      },
      "source": [
        ""
      ],
      "execution_count": 0,
      "outputs": []
    }
  ]
}