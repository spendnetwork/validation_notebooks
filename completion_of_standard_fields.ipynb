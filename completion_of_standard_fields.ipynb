{
  "nbformat": 4,
  "nbformat_minor": 0,
  "metadata": {
    "colab": {
      "name": "completion_of_standard_fields.ipynb",
      "provenance": [],
      "authorship_tag": "ABX9TyMIGfA7s/7ti2oFUk/1k1Y2",
      "include_colab_link": true
    },
    "kernelspec": {
      "name": "python3",
      "display_name": "Python 3"
    }
  },
  "cells": [
    {
      "cell_type": "markdown",
      "metadata": {
        "id": "view-in-github",
        "colab_type": "text"
      },
      "source": [
        "<a href=\"https://colab.research.google.com/github/spendnetwork/validation_notebooks/blob/master/completion_of_standard_fields.ipynb\" target=\"_parent\"><img src=\"https://colab.research.google.com/assets/colab-badge.svg\" alt=\"Open In Colab\"/></a>"
      ]
    },
    {
      "cell_type": "code",
      "metadata": {
        "id": "-KLHm1dcKr5U",
        "colab_type": "code",
        "colab": {}
      },
      "source": [
        "import pandas as pd\n",
        "import altair as alt\n",
        "pd.set_option(\"display.max_rows\", 50)\n"
      ],
      "execution_count": 9,
      "outputs": []
    },
    {
      "cell_type": "markdown",
      "metadata": {
        "id": "5NMHuKjcKvXr",
        "colab_type": "text"
      },
      "source": [
        "Read csv and create dataframe with only core fields\n",
        "\n"
      ]
    },
    {
      "cell_type": "code",
      "metadata": {
        "id": "YZ2fkh35K28c",
        "colab_type": "code",
        "colab": {}
      },
      "source": [
        "\n",
        "url = 'https://raw.githubusercontent.com/spendnetwork/validation_notebooks/master/csvs/cf_notices_tenders_10_buyers.csv'\n",
        "df = pd.read_csv(url)\n",
        "df = df[['title', 'description', 'value', 'currency', 'pubdate', 'startdate', 'enddate', 'buyer', 'countryname']]\n"
      ],
      "execution_count": 14,
      "outputs": []
    },
    {
      "cell_type": "markdown",
      "metadata": {
        "id": "ZCVfwrvRK3hZ",
        "colab_type": "text"
      },
      "source": [
        "counts by field"
      ]
    },
    {
      "cell_type": "code",
      "metadata": {
        "id": "ikI8iWxBK8pB",
        "colab_type": "code",
        "colab": {
          "base_uri": "https://localhost:8080/",
          "height": 328
        },
        "outputId": "346402a0-b66a-4903-eacd-306fa7ade732"
      },
      "source": [
        "counts = (df.count().divide(df.shape[0]).mul(100)).to_frame().reset_index()\n",
        "counts.columns = ['OCDS Field', 'Percentage of Completion']\n",
        "counts"
      ],
      "execution_count": 15,
      "outputs": [
        {
          "output_type": "execute_result",
          "data": {
            "text/html": [
              "<div>\n",
              "<style scoped>\n",
              "    .dataframe tbody tr th:only-of-type {\n",
              "        vertical-align: middle;\n",
              "    }\n",
              "\n",
              "    .dataframe tbody tr th {\n",
              "        vertical-align: top;\n",
              "    }\n",
              "\n",
              "    .dataframe thead th {\n",
              "        text-align: right;\n",
              "    }\n",
              "</style>\n",
              "<table border=\"1\" class=\"dataframe\">\n",
              "  <thead>\n",
              "    <tr style=\"text-align: right;\">\n",
              "      <th></th>\n",
              "      <th>OCDS Field</th>\n",
              "      <th>Percentage of Completion</th>\n",
              "    </tr>\n",
              "  </thead>\n",
              "  <tbody>\n",
              "    <tr>\n",
              "      <th>0</th>\n",
              "      <td>title</td>\n",
              "      <td>100.000000</td>\n",
              "    </tr>\n",
              "    <tr>\n",
              "      <th>1</th>\n",
              "      <td>description</td>\n",
              "      <td>99.889868</td>\n",
              "    </tr>\n",
              "    <tr>\n",
              "      <th>2</th>\n",
              "      <td>value</td>\n",
              "      <td>100.000000</td>\n",
              "    </tr>\n",
              "    <tr>\n",
              "      <th>3</th>\n",
              "      <td>currency</td>\n",
              "      <td>100.000000</td>\n",
              "    </tr>\n",
              "    <tr>\n",
              "      <th>4</th>\n",
              "      <td>pubdate</td>\n",
              "      <td>100.000000</td>\n",
              "    </tr>\n",
              "    <tr>\n",
              "      <th>5</th>\n",
              "      <td>startdate</td>\n",
              "      <td>12.114537</td>\n",
              "    </tr>\n",
              "    <tr>\n",
              "      <th>6</th>\n",
              "      <td>enddate</td>\n",
              "      <td>100.000000</td>\n",
              "    </tr>\n",
              "    <tr>\n",
              "      <th>7</th>\n",
              "      <td>buyer</td>\n",
              "      <td>100.000000</td>\n",
              "    </tr>\n",
              "    <tr>\n",
              "      <th>8</th>\n",
              "      <td>countryname</td>\n",
              "      <td>100.000000</td>\n",
              "    </tr>\n",
              "  </tbody>\n",
              "</table>\n",
              "</div>"
            ],
            "text/plain": [
              "    OCDS Field  Percentage of Completion\n",
              "0        title                100.000000\n",
              "1  description                 99.889868\n",
              "2        value                100.000000\n",
              "3     currency                100.000000\n",
              "4      pubdate                100.000000\n",
              "5    startdate                 12.114537\n",
              "6      enddate                100.000000\n",
              "7        buyer                100.000000\n",
              "8  countryname                100.000000"
            ]
          },
          "metadata": {
            "tags": []
          },
          "execution_count": 15
        }
      ]
    },
    {
      "cell_type": "code",
      "metadata": {
        "id": "UMoDRaqYLBLv",
        "colab_type": "code",
        "colab": {
          "base_uri": "https://localhost:8080/",
          "height": 399
        },
        "outputId": "1e7f47b5-10c1-45eb-fff3-eac49b6e7f5a"
      },
      "source": [
        "\n",
        "# alt.Chart(counts, width=900, height=300, title=\"Percentate of Completion of Vital Fields\").mark_bar().encode(\n",
        "#      alt.X('OCDS Field'),\n",
        "#      alt.Y('Percentage of Completion'),\n",
        "#     )\n",
        "\n",
        "\n",
        "\n",
        "chart = alt.Chart(counts, width=600, height=300, title=\"Percentate of Completion of Vital Fields\"\n",
        "                 ).mark_bar(size=10, color='#91D739').encode(\n",
        "            alt.X('OCDS Field:N',\n",
        "            axis=alt.Axis(tickCount=12, title=\"https://openopps.com\", \n",
        "            grid=False, \n",
        "            labelFont='Helvetica', \n",
        "            labelFontSize=12, \n",
        "            labelAngle=0, \n",
        "            titleAlign='left',\n",
        "            titleAnchor='start',\n",
        "            titleFont='Helvetica',\n",
        "            titleFontSize= 11,\n",
        "            titleFontWeight= 300,\n",
        "            titleX= -0,\n",
        "            titleY= 30)\n",
        "                   ),\n",
        "         alt.Y('Percentage of Completion',\n",
        "               axis=alt.Axis(title=\"\",\n",
        "               format=\".0s\",)\n",
        "                       ),\n",
        "                )\n",
        "\n",
        "full_chart = alt.layer(\n",
        "            chart\n",
        "            ).configure_view(\n",
        "              strokeWidth=0\n",
        "            ).configure_title(fontSize=18, anchor='start',\n",
        "                    color= \"#91D739\", font='Helvetica', fontWeight=400)\n",
        "\n",
        "full_chart\n"
      ],
      "execution_count": 16,
      "outputs": [
        {
          "output_type": "execute_result",
          "data": {
            "text/plain": [
              "alt.LayerChart(...)"
            ],
            "text/html": [
              "\n",
              "<div id=\"altair-viz-82ca490b468d42678f792f5cd46e96f4\"></div>\n",
              "<script type=\"text/javascript\">\n",
              "  (function(spec, embedOpt){\n",
              "    let outputDiv = document.currentScript.previousElementSibling;\n",
              "    if (outputDiv.id !== \"altair-viz-82ca490b468d42678f792f5cd46e96f4\") {\n",
              "      outputDiv = document.getElementById(\"altair-viz-82ca490b468d42678f792f5cd46e96f4\");\n",
              "    }\n",
              "    const paths = {\n",
              "      \"vega\": \"https://cdn.jsdelivr.net/npm//vega@5?noext\",\n",
              "      \"vega-lib\": \"https://cdn.jsdelivr.net/npm//vega-lib?noext\",\n",
              "      \"vega-lite\": \"https://cdn.jsdelivr.net/npm//vega-lite@4.8.1?noext\",\n",
              "      \"vega-embed\": \"https://cdn.jsdelivr.net/npm//vega-embed@6?noext\",\n",
              "    };\n",
              "\n",
              "    function loadScript(lib) {\n",
              "      return new Promise(function(resolve, reject) {\n",
              "        var s = document.createElement('script');\n",
              "        s.src = paths[lib];\n",
              "        s.async = true;\n",
              "        s.onload = () => resolve(paths[lib]);\n",
              "        s.onerror = () => reject(`Error loading script: ${paths[lib]}`);\n",
              "        document.getElementsByTagName(\"head\")[0].appendChild(s);\n",
              "      });\n",
              "    }\n",
              "\n",
              "    function showError(err) {\n",
              "      outputDiv.innerHTML = `<div class=\"error\" style=\"color:red;\">${err}</div>`;\n",
              "      throw err;\n",
              "    }\n",
              "\n",
              "    function displayChart(vegaEmbed) {\n",
              "      vegaEmbed(outputDiv, spec, embedOpt)\n",
              "        .catch(err => showError(`Javascript Error: ${err.message}<br>This usually means there's a typo in your chart specification. See the javascript console for the full traceback.`));\n",
              "    }\n",
              "\n",
              "    if(typeof define === \"function\" && define.amd) {\n",
              "      requirejs.config({paths});\n",
              "      require([\"vega-embed\"], displayChart, err => showError(`Error loading script: ${err.message}`));\n",
              "    } else if (typeof vegaEmbed === \"function\") {\n",
              "      displayChart(vegaEmbed);\n",
              "    } else {\n",
              "      loadScript(\"vega\")\n",
              "        .then(() => loadScript(\"vega-lite\"))\n",
              "        .then(() => loadScript(\"vega-embed\"))\n",
              "        .catch(showError)\n",
              "        .then(() => displayChart(vegaEmbed));\n",
              "    }\n",
              "  })({\"config\": {\"view\": {\"continuousWidth\": 400, \"continuousHeight\": 300, \"strokeWidth\": 0}, \"title\": {\"anchor\": \"start\", \"color\": \"#91D739\", \"font\": \"Helvetica\", \"fontSize\": 18, \"fontWeight\": 400}}, \"layer\": [{\"mark\": {\"type\": \"bar\", \"color\": \"#91D739\", \"size\": 10}, \"encoding\": {\"x\": {\"type\": \"nominal\", \"axis\": {\"grid\": false, \"labelAngle\": 0, \"labelFont\": \"Helvetica\", \"labelFontSize\": 12, \"tickCount\": 12, \"title\": \"https://openopps.com\", \"titleAlign\": \"left\", \"titleAnchor\": \"start\", \"titleFont\": \"Helvetica\", \"titleFontSize\": 11, \"titleFontWeight\": 300, \"titleX\": 0, \"titleY\": 30}, \"field\": \"OCDS Field\"}, \"y\": {\"type\": \"quantitative\", \"axis\": {\"format\": \".0s\", \"title\": \"\"}, \"field\": \"Percentage of Completion\"}}, \"height\": 300, \"title\": \"Percentate of Completion of Vital Fields\", \"width\": 600}], \"data\": {\"name\": \"data-7935c7127112e5c2723356cc3eae62aa\"}, \"$schema\": \"https://vega.github.io/schema/vega-lite/v4.8.1.json\", \"datasets\": {\"data-7935c7127112e5c2723356cc3eae62aa\": [{\"OCDS Field\": \"title\", \"Percentage of Completion\": 100.0}, {\"OCDS Field\": \"description\", \"Percentage of Completion\": 99.8898678414097}, {\"OCDS Field\": \"value\", \"Percentage of Completion\": 100.0}, {\"OCDS Field\": \"currency\", \"Percentage of Completion\": 100.0}, {\"OCDS Field\": \"pubdate\", \"Percentage of Completion\": 100.0}, {\"OCDS Field\": \"startdate\", \"Percentage of Completion\": 12.114537444933921}, {\"OCDS Field\": \"enddate\", \"Percentage of Completion\": 100.0}, {\"OCDS Field\": \"buyer\", \"Percentage of Completion\": 100.0}, {\"OCDS Field\": \"countryname\", \"Percentage of Completion\": 100.0}]}}, {\"mode\": \"vega-lite\"});\n",
              "</script>"
            ]
          },
          "metadata": {
            "tags": []
          },
          "execution_count": 16
        }
      ]
    }
  ]
}