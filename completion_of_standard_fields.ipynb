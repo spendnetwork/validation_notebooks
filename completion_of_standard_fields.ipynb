#%%

import pandas as pd
import altair as alt
pd.set_option("display.max_rows", 50)

#%% md

Read csv
(TODO csv with mult sources)

#%%

path = '/Users/erinclark/git/validation_notebooks/csvs/td_uk_recent_excl_ted_cf.csv'
df = pd.read_csv(path)
df = df[['title', 'description', 'value', 'currency', 'pubdate', 'startdate', 'enddate', 'buyer', 'countryname']]

#%% md

counts by field

#%%

counts = (df.count().divide(df.shape[0]).mul(100)).to_frame().reset_index()
counts.columns = ['OCDS Field', 'Percentage of Completion']
counts

#%% md

Output chart

#%%

# alt.Chart(counts, width=900, height=300, title="Percentate of Completion of Vital Fields").mark_bar().encode(
#      alt.X('OCDS Field'),
#      alt.Y('Percentage of Completion'),
#     )



chart = alt.Chart(counts, width=600, height=300, title="Percentate of Completion of Vital Fields"
                 ).mark_bar(size=10, color='#91D739').encode(
            alt.X('OCDS Field:N',
            axis=alt.Axis(tickCount=12, title="https://openopps.com", 
            grid=False, 
            labelFont='Helvetica', 
            labelFontSize=12, 
            labelAngle=0, 
            titleAlign='left',
            titleAnchor='start',
            titleFont='Helvetica',
            titleFontSize= 11,
            titleFontWeight= 300,
            titleX= -0,
            titleY= 30)
                   ),
         alt.Y('Percentage of Completion',
               axis=alt.Axis(title="",
               format=".0s",)
                       ),
                )

full_chart = alt.layer(
            chart
            ).configure_view(
              strokeWidth=0
            ).configure_title(fontSize=18, anchor='start',
                    color= "#91D739", font='Helvetica', fontWeight=400)

full_chart

#%%



#%%



#%%


