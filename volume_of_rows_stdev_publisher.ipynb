{
  "nbformat": 4,
  "nbformat_minor": 0,
  "metadata": {
    "kernelspec": {
      "display_name": "Python 3",
      "language": "python",
      "name": "python3"
    },
    "language_info": {
      "codemirror_mode": {
        "name": "ipython",
        "version": 3
      },
      "file_extension": ".py",
      "mimetype": "text/x-python",
      "name": "python",
      "nbconvert_exporter": "python",
      "pygments_lexer": "ipython3",
      "version": "3.7.5"
    },
    "pycharm": {
      "stem_cell": {
        "cell_type": "raw",
        "metadata": {
          "collapsed": false
        },
        "source": []
      }
    },
    "colab": {
      "name": "volume_of_rows_stdev_publisher.ipynb",
      "provenance": []
    }
  },
  "cells": [
    {
      "cell_type": "code",
      "metadata": {
        "pycharm": {
          "name": "#%%\n"
        },
        "id": "_hgFBm-Ax3a5",
        "colab_type": "code",
        "colab": {}
      },
      "source": [
        "import pandas as pd\n",
        "import altair as alt"
      ],
      "execution_count": 0,
      "outputs": []
    },
    {
      "cell_type": "markdown",
      "metadata": {
        "id": "_qakJYUz1K4X",
        "colab_type": "text"
      },
      "source": [
        "This sample csv contains UK sources, excluding the main publishers, TED and Contracts Finder"
      ]
    },
    {
      "cell_type": "code",
      "metadata": {
        "pycharm": {
          "name": "#%%\n"
        },
        "id": "n1vuKG9Ux3a9",
        "colab_type": "code",
        "colab": {}
      },
      "source": [
        "url = 'https://raw.githubusercontent.com/spendnetwork/validation_notebooks/master/csvs/td_uk_recent_excl_ted_cf.csv?token=ADX2I7ZGCPSAB7AAUCSCBU26YG7DC'\n",
        "df = pd.read_csv(url)"
      ],
      "execution_count": 0,
      "outputs": []
    },
    {
      "cell_type": "markdown",
      "metadata": {
        "id": "XIftP9jBx3a_",
        "colab_type": "text"
      },
      "source": [
        "Create dataframe grouped by publisher and months"
      ]
    },
    {
      "cell_type": "code",
      "metadata": {
        "pycharm": {
          "name": "#%% \n"
        },
        "id": "Y-GndFZax3bA",
        "colab_type": "code",
        "colab": {}
      },
      "source": [
        "df['month'] = pd.to_datetime(df['pubdate']).dt.strftime('%Y-%m')\n",
        "groupdf = df.groupby(['source', 'month']).size()\n",
        "groupdf = groupdf.to_frame().reset_index().rename({0: 'monthsum'}, axis=1)"
      ],
      "execution_count": 0,
      "outputs": []
    },
    {
      "cell_type": "markdown",
      "metadata": {
        "id": "D7zmv1PCx3bC",
        "colab_type": "text"
      },
      "source": [
        "Output chart displaying average rows per month, with standard deviation"
      ]
    },
    {
      "cell_type": "code",
      "metadata": {
        "pycharm": {
          "name": "#%%\n"
        },
        "id": "4pgBeJOfx3bC",
        "colab_type": "code",
        "outputId": "a8e00258-b769-4c70-f582-b721d163e099",
        "colab": {
          "base_uri": "https://localhost:8080/",
          "height": 798
        }
      },
      "source": [
        "chart = alt.Chart(groupdf, width=1000, height=600, title=\"Volume of Rows per Month\")\n",
        "\n",
        "points = chart.mark_point(filled=True, color='#91D739', size=50).encode(\n",
        "            alt.X('source', title=''),\n",
        "            alt.Y('mean(monthsum):Q', \n",
        "                  axis=alt.Axis(title='Monthly Count',\n",
        "                  labelFont='Helvetica', \n",
        "                  titleFont='Helvetica',\n",
        "                  titleFontSize= 11,\n",
        "                  titleFontWeight= 300,\n",
        "                  titleX= -0,\n",
        "                  titleY= 30)\n",
        "                  )\n",
        "        )\n",
        "\n",
        "stdev_bars = chart.mark_errorbar(extent='stdev', color='#91D739', clip=True).encode(\n",
        "            alt.X('source', title=''),\n",
        "            alt.Y('mean(monthsum):Q', title='Monthly Count')\n",
        "        )\n",
        "\n",
        "full_chart = alt.layer(\n",
        "            points, stdev_bars\n",
        "            ).configure_view(\n",
        "              strokeWidth=0\n",
        "            ).configure_title(fontSize=18, anchor='start',\n",
        "                            color= \"#91D739\", font='Helvetica', fontWeight=400)\n",
        "\n",
        "full_chart"
      ],
      "execution_count": 51,
      "outputs": [
        {
          "output_type": "execute_result",
          "data": {
            "text/plain": [
              "alt.LayerChart(...)"
            ],
            "text/html": [
              "\n",
              "<div id=\"altair-viz-f0bba32e38754af28198c561cad063da\"></div>\n",
              "<script type=\"text/javascript\">\n",
              "  (function(spec, embedOpt){\n",
              "    let outputDiv = document.currentScript.previousElementSibling;\n",
              "    if (outputDiv.id !== \"altair-viz-f0bba32e38754af28198c561cad063da\") {\n",
              "      outputDiv = document.getElementById(\"altair-viz-f0bba32e38754af28198c561cad063da\");\n",
              "    }\n",
              "    const paths = {\n",
              "      \"vega\": \"https://cdn.jsdelivr.net/npm//vega@5?noext\",\n",
              "      \"vega-lib\": \"https://cdn.jsdelivr.net/npm//vega-lib?noext\",\n",
              "      \"vega-lite\": \"https://cdn.jsdelivr.net/npm//vega-lite@4.8.1?noext\",\n",
              "      \"vega-embed\": \"https://cdn.jsdelivr.net/npm//vega-embed@6?noext\",\n",
              "    };\n",
              "\n",
              "    function loadScript(lib) {\n",
              "      return new Promise(function(resolve, reject) {\n",
              "        var s = document.createElement('script');\n",
              "        s.src = paths[lib];\n",
              "        s.async = true;\n",
              "        s.onload = () => resolve(paths[lib]);\n",
              "        s.onerror = () => reject(`Error loading script: ${paths[lib]}`);\n",
              "        document.getElementsByTagName(\"head\")[0].appendChild(s);\n",
              "      });\n",
              "    }\n",
              "\n",
              "    function showError(err) {\n",
              "      outputDiv.innerHTML = `<div class=\"error\" style=\"color:red;\">${err}</div>`;\n",
              "      throw err;\n",
              "    }\n",
              "\n",
              "    function displayChart(vegaEmbed) {\n",
              "      vegaEmbed(outputDiv, spec, embedOpt)\n",
              "        .catch(err => showError(`Javascript Error: ${err.message}<br>This usually means there's a typo in your chart specification. See the javascript console for the full traceback.`));\n",
              "    }\n",
              "\n",
              "    if(typeof define === \"function\" && define.amd) {\n",
              "      requirejs.config({paths});\n",
              "      require([\"vega-embed\"], displayChart, err => showError(`Error loading script: ${err.message}`));\n",
              "    } else if (typeof vegaEmbed === \"function\") {\n",
              "      displayChart(vegaEmbed);\n",
              "    } else {\n",
              "      loadScript(\"vega\")\n",
              "        .then(() => loadScript(\"vega-lite\"))\n",
              "        .then(() => loadScript(\"vega-embed\"))\n",
              "        .catch(showError)\n",
              "        .then(() => displayChart(vegaEmbed));\n",
              "    }\n",
              "  })({\"config\": {\"view\": {\"continuousWidth\": 400, \"continuousHeight\": 300, \"strokeWidth\": 0}, \"title\": {\"anchor\": \"start\", \"color\": \"#91D739\", \"font\": \"Helvetica\", \"fontSize\": 18, \"fontWeight\": 400}}, \"layer\": [{\"mark\": {\"type\": \"point\", \"color\": \"#91D739\", \"filled\": true, \"size\": 50}, \"encoding\": {\"x\": {\"type\": \"nominal\", \"field\": \"source\", \"title\": \"\"}, \"y\": {\"type\": \"quantitative\", \"aggregate\": \"mean\", \"axis\": {\"labelFont\": \"Helvetica\", \"title\": \"Monthly Count\", \"titleFont\": \"Helvetica\", \"titleFontSize\": 11, \"titleFontWeight\": 300, \"titleX\": 0, \"titleY\": 30}, \"field\": \"monthsum\"}}, \"height\": 600, \"title\": \"Volume of Rows per Month\", \"width\": 1000}, {\"mark\": {\"type\": \"errorbar\", \"clip\": true, \"color\": \"#91D739\", \"extent\": \"stdev\"}, \"encoding\": {\"x\": {\"type\": \"nominal\", \"field\": \"source\", \"title\": \"\"}, \"y\": {\"type\": \"quantitative\", \"aggregate\": \"mean\", \"field\": \"monthsum\", \"title\": \"Monthly Count\"}}, \"height\": 600, \"title\": \"Volume of Rows per Month\", \"width\": 1000}], \"data\": {\"name\": \"data-1c6f2294d0cf8ff72884def098f81876\"}, \"$schema\": \"https://vega.github.io/schema/vega-lite/v4.8.1.json\", \"datasets\": {\"data-1c6f2294d0cf8ff72884def098f81876\": [{\"source\": \"td_belfasttelegraph_uk\", \"month\": \"2020-03\", \"monthsum\": 3}, {\"source\": \"td_belfasttelegraph_uk\", \"month\": \"2020-04\", \"monthsum\": 4}, {\"source\": \"td_bravosolution\", \"month\": \"2020-03\", \"monthsum\": 57}, {\"source\": \"td_bravosolution\", \"month\": \"2020-04\", \"monthsum\": 80}, {\"source\": \"td_bravosolution\", \"month\": \"2020-05\", \"monthsum\": 15}, {\"source\": \"td_communityni_uk\", \"month\": \"2020-03\", \"monthsum\": 1}, {\"source\": \"td_communityni_uk\", \"month\": \"2020-04\", \"monthsum\": 4}, {\"source\": \"td_competefor\", \"month\": \"2020-03\", \"monthsum\": 36}, {\"source\": \"td_competefor\", \"month\": \"2020-04\", \"monthsum\": 57}, {\"source\": \"td_competefor\", \"month\": \"2020-05\", \"monthsum\": 7}, {\"source\": \"td_curtis_fitch\", \"month\": \"2020-03\", \"monthsum\": 3}, {\"source\": \"td_curtis_fitch\", \"month\": \"2020-04\", \"monthsum\": 3}, {\"source\": \"td_curtis_fitch\", \"month\": \"2020-05\", \"monthsum\": 2}, {\"source\": \"td_dm_gov_uk\", \"month\": \"2020-03\", \"monthsum\": 45}, {\"source\": \"td_dm_gov_uk\", \"month\": \"2020-04\", \"monthsum\": 27}, {\"source\": \"td_dm_gov_uk\", \"month\": \"2020-05\", \"monthsum\": 5}, {\"source\": \"td_due_north_newsite\", \"month\": \"2015-12\", \"monthsum\": 1}, {\"source\": \"td_due_north_newsite\", \"month\": \"2016-02\", \"monthsum\": 3}, {\"source\": \"td_due_north_newsite\", \"month\": \"2016-03\", \"monthsum\": 2}, {\"source\": \"td_due_north_newsite\", \"month\": \"2016-07\", \"monthsum\": 1}, {\"source\": \"td_due_north_newsite\", \"month\": \"2016-09\", \"monthsum\": 4}, {\"source\": \"td_due_north_newsite\", \"month\": \"2017-01\", \"monthsum\": 1}, {\"source\": \"td_due_north_newsite\", \"month\": \"2017-02\", \"monthsum\": 3}, {\"source\": \"td_due_north_newsite\", \"month\": \"2017-04\", \"monthsum\": 2}, {\"source\": \"td_due_north_newsite\", \"month\": \"2017-07\", \"monthsum\": 3}, {\"source\": \"td_due_north_newsite\", \"month\": \"2017-08\", \"monthsum\": 1}, {\"source\": \"td_due_north_newsite\", \"month\": \"2017-09\", \"monthsum\": 1}, {\"source\": \"td_due_north_newsite\", \"month\": \"2017-10\", \"monthsum\": 5}, {\"source\": \"td_due_north_newsite\", \"month\": \"2017-12\", \"monthsum\": 3}, {\"source\": \"td_due_north_newsite\", \"month\": \"2018-01\", \"monthsum\": 1}, {\"source\": \"td_due_north_newsite\", \"month\": \"2018-02\", \"monthsum\": 1}, {\"source\": \"td_due_north_newsite\", \"month\": \"2018-04\", \"monthsum\": 1}, {\"source\": \"td_due_north_newsite\", \"month\": \"2018-05\", \"monthsum\": 1}, {\"source\": \"td_due_north_newsite\", \"month\": \"2018-07\", \"monthsum\": 1}, {\"source\": \"td_due_north_newsite\", \"month\": \"2018-10\", \"monthsum\": 1}, {\"source\": \"td_due_north_newsite\", \"month\": \"2018-11\", \"monthsum\": 2}, {\"source\": \"td_due_north_newsite\", \"month\": \"2019-01\", \"monthsum\": 8}, {\"source\": \"td_due_north_newsite\", \"month\": \"2019-04\", \"monthsum\": 3}, {\"source\": \"td_due_north_newsite\", \"month\": \"2019-05\", \"monthsum\": 2}, {\"source\": \"td_due_north_newsite\", \"month\": \"2019-06\", \"monthsum\": 2}, {\"source\": \"td_due_north_newsite\", \"month\": \"2019-07\", \"monthsum\": 2}, {\"source\": \"td_due_north_newsite\", \"month\": \"2019-08\", \"monthsum\": 2}, {\"source\": \"td_due_north_newsite\", \"month\": \"2019-09\", \"monthsum\": 5}, {\"source\": \"td_due_north_newsite\", \"month\": \"2019-10\", \"monthsum\": 4}, {\"source\": \"td_due_north_newsite\", \"month\": \"2019-11\", \"monthsum\": 5}, {\"source\": \"td_due_north_newsite\", \"month\": \"2019-12\", \"monthsum\": 8}, {\"source\": \"td_due_north_newsite\", \"month\": \"2020-01\", \"monthsum\": 16}, {\"source\": \"td_due_north_newsite\", \"month\": \"2020-02\", \"monthsum\": 140}, {\"source\": \"td_due_north_newsite\", \"month\": \"2020-03\", \"monthsum\": 778}, {\"source\": \"td_due_north_newsite\", \"month\": \"2020-04\", \"monthsum\": 301}, {\"source\": \"td_due_north_newsite\", \"month\": \"2020-05\", \"monthsum\": 116}, {\"source\": \"td_ebrd_int\", \"month\": \"2020-03\", \"monthsum\": 1}, {\"source\": \"td_ebrd_int\", \"month\": \"2020-04\", \"monthsum\": 1}, {\"source\": \"td_ehub\", \"month\": \"2020-03\", \"monthsum\": 2}, {\"source\": \"td_ehub\", \"month\": \"2020-04\", \"monthsum\": 5}, {\"source\": \"td_etenders_ni\", \"month\": \"2020-03\", \"monthsum\": 61}, {\"source\": \"td_etenders_ni\", \"month\": \"2020-04\", \"monthsum\": 26}, {\"source\": \"td_etenders_ni\", \"month\": \"2020-05\", \"monthsum\": 12}, {\"source\": \"td_eu_supply\", \"month\": \"2020-03\", \"monthsum\": 58}, {\"source\": \"td_eu_supply\", \"month\": \"2020-04\", \"monthsum\": 31}, {\"source\": \"td_eu_supply\", \"month\": \"2020-05\", \"monthsum\": 6}, {\"source\": \"td_eu_supply_ie\", \"month\": \"2020-03\", \"monthsum\": 2}, {\"source\": \"td_eu_supply_ie\", \"month\": \"2020-04\", \"monthsum\": 3}, {\"source\": \"td_exportingisgreat_int\", \"month\": \"2020-03\", \"monthsum\": 16}, {\"source\": \"td_exportingisgreat_int\", \"month\": \"2020-04\", \"monthsum\": 45}, {\"source\": \"td_exportingisgreat_int\", \"month\": \"2020-05\", \"monthsum\": 18}, {\"source\": \"td_fermanaghomagh_uk\", \"month\": \"2020-03\", \"monthsum\": 2}, {\"source\": \"td_fermanaghomagh_uk\", \"month\": \"2020-05\", \"monthsum\": 1}, {\"source\": \"td_finditinbirmingham_uk\", \"month\": \"2020-03\", \"monthsum\": 147}, {\"source\": \"td_finditinbirmingham_uk\", \"month\": \"2020-04\", \"monthsum\": 100}, {\"source\": \"td_finditinbirmingham_uk\", \"month\": \"2020-05\", \"monthsum\": 21}, {\"source\": \"td_in-tend\", \"month\": \"2020-03\", \"monthsum\": 267}, {\"source\": \"td_in-tend\", \"month\": \"2020-04\", \"monthsum\": 191}, {\"source\": \"td_in-tend\", \"month\": \"2020-05\", \"monthsum\": 93}, {\"source\": \"td_midandeastantrim_gov_uk\", \"month\": \"2020-03\", \"monthsum\": 2}, {\"source\": \"td_midandeastantrim_gov_uk\", \"month\": \"2020-04\", \"monthsum\": 1}, {\"source\": \"td_midandeastantrim_gov_uk\", \"month\": \"2020-05\", \"monthsum\": 1}, {\"source\": \"td_millstream\", \"month\": \"2020-03\", \"monthsum\": 735}, {\"source\": \"td_millstream\", \"month\": \"2020-04\", \"monthsum\": 499}, {\"source\": \"td_millstream\", \"month\": \"2020-05\", \"monthsum\": 161}, {\"source\": \"td_mod_uk\", \"month\": \"2020-03\", \"monthsum\": 114}, {\"source\": \"td_mod_uk\", \"month\": \"2020-04\", \"monthsum\": 92}, {\"source\": \"td_mod_uk\", \"month\": \"2020-05\", \"monthsum\": 20}, {\"source\": \"td_mytenders_uk\", \"month\": \"2020-03\", \"monthsum\": 45}, {\"source\": \"td_mytenders_uk\", \"month\": \"2020-04\", \"monthsum\": 26}, {\"source\": \"td_mytenders_uk\", \"month\": \"2020-05\", \"monthsum\": 11}, {\"source\": \"td_proactis_newsite\", \"month\": \"2020-03\", \"monthsum\": 11}, {\"source\": \"td_proactis_newsite\", \"month\": \"2020-04\", \"monthsum\": 5}, {\"source\": \"td_proactis_newsite\", \"month\": \"2020-05\", \"monthsum\": 2}, {\"source\": \"td_salfordcvs_uk\", \"month\": \"2020-03\", \"monthsum\": 11}, {\"source\": \"td_salfordcvs_uk\", \"month\": \"2020-04\", \"monthsum\": 32}, {\"source\": \"td_salfordcvs_uk\", \"month\": \"2020-05\", \"monthsum\": 7}, {\"source\": \"td_scilly_gov_uk\", \"month\": \"2020-03\", \"monthsum\": 3}, {\"source\": \"td_source_east_midlands\", \"month\": \"2020-03\", \"monthsum\": 32}, {\"source\": \"td_source_east_midlands\", \"month\": \"2020-04\", \"monthsum\": 18}, {\"source\": \"td_source_east_midlands\", \"month\": \"2020-05\", \"monthsum\": 2}, {\"source\": \"td_stoke_gov_uk\", \"month\": \"2020-04\", \"monthsum\": 12}, {\"source\": \"td_stoke_gov_uk\", \"month\": \"2020-05\", \"monthsum\": 1}, {\"source\": \"td_ukho_delta_uk\", \"month\": \"2020-05\", \"monthsum\": 1}]}}, {\"mode\": \"vega-lite\"});\n",
              "</script>"
            ]
          },
          "metadata": {
            "tags": []
          },
          "execution_count": 51
        }
      ]
    }
  ]
}